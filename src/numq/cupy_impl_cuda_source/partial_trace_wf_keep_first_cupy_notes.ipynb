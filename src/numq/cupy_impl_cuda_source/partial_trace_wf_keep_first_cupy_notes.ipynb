{
 "cells": [
  {
   "cell_type": "markdown",
   "metadata": {},
   "source": [
    "# Use numba.cuda with cupy"
   ]
  },
  {
   "cell_type": "code",
   "execution_count": 1,
   "metadata": {},
   "outputs": [
    {
     "name": "stdout",
     "output_type": "stream",
     "text": [
      "[ 0.  3.  6.  9. 12. 15. 18. 21. 24. 27.]\n"
     ]
    }
   ],
   "source": [
    "import cupy as cp\n",
    "from numba import cuda\n",
    "\n",
    "@cuda.jit\n",
    "def add(x, y, out):\n",
    "        start = cuda.grid(1)\n",
    "        stride = cuda.gridsize(1)\n",
    "        for i in range(start, x.shape[0], stride):\n",
    "                out[i] = x[i] + y[i]\n",
    "\n",
    "a = cp.arange(10, dtype=float)\n",
    "b = a * 2\n",
    "out = cp.zeros_like(a)\n",
    "add[1, 32](a, b, out)\n",
    "print(out)"
   ]
  },
  {
   "cell_type": "code",
   "execution_count": 2,
   "metadata": {},
   "outputs": [
    {
     "data": {
      "text/plain": [
       "cupy.core.core.ndarray"
      ]
     },
     "execution_count": 2,
     "metadata": {},
     "output_type": "execute_result"
    }
   ],
   "source": [
    "type(out)"
   ]
  },
  {
   "cell_type": "code",
   "execution_count": 3,
   "metadata": {},
   "outputs": [
    {
     "data": {
      "text/plain": [
       "dtype('float64')"
      ]
     },
     "execution_count": 3,
     "metadata": {},
     "output_type": "execute_result"
    }
   ],
   "source": [
    "out.dtype"
   ]
  },
  {
   "cell_type": "code",
   "execution_count": 4,
   "metadata": {},
   "outputs": [
    {
     "data": {
      "text/plain": [
       "  C_CONTIGUOUS : True\n",
       "  F_CONTIGUOUS : True\n",
       "  OWNDATA : True"
      ]
     },
     "execution_count": 4,
     "metadata": {},
     "output_type": "execute_result"
    }
   ],
   "source": [
    "out.flags"
   ]
  },
  {
   "cell_type": "markdown",
   "metadata": {},
   "source": [
    "# Numba share memory"
   ]
  },
  {
   "cell_type": "markdown",
   "metadata": {},
   "source": [
    "## First, one without shared memory"
   ]
  },
  {
   "cell_type": "code",
   "execution_count": 7,
   "metadata": {},
   "outputs": [],
   "source": [
    "from math import log2 as math_log2\n",
    "\n",
    "@cuda.jit\n",
    "def pt_wf_keep_fisrt_1_kernel(iwf, iwf_conj, rho, m, m_idx, n_idx):\n",
    "    i, j = cuda.grid(2)\n",
    "    if i >= rho.shape[0] or j >= rho.shape[1]:\n",
    "        return\n",
    "    i_shift = i << m\n",
    "    j_shift = j << m\n",
    "    for k in range(m_idx):\n",
    "        rho[i_shift, j_shift] += iwf[i_shift + k] * iwf_conj[j_shift+ k]\n",
    "def pt_wf_keep_fisrt_1(iwf: cp.ndarray, n):\n",
    "    iwf_conj = iwf.conj()\n",
    "    nqb = int(math_log2(iwf.shape[0]))\n",
    "    m = nqb - n\n",
    "    m_idx = 2 ** m\n",
    "    n_idx = 2 ** n\n",
    "\n",
    "    rho = cp.zeros(shape=(n_idx, n_idx), dtype=iwf.dtype, order='C')\n",
    "    rho_max_length = rho.shape[0] * rho.shape[1]\n",
    "    # Here we simply use the threadDim for i, j in the cuda code.\n",
    "    threadDim = (n_idx, n_idx)\n",
    "    blockDim = (1,)\n",
    "    # TODO cleverly adjust the blockDim to deal with the other case\n",
    "    pt_wf_keep_fisrt_1_kernel[blockDim, threadDim](\n",
    "        iwf, iwf_conj, rho, m, m_idx, n_idx\n",
    "    )\n",
    "    return rho"
   ]
  },
  {
   "cell_type": "code",
   "execution_count": 8,
   "metadata": {
    "scrolled": true
   },
   "outputs": [
    {
     "data": {
      "text/plain": [
       "array([[1.]])"
      ]
     },
     "execution_count": 8,
     "metadata": {},
     "output_type": "execute_result"
    }
   ],
   "source": [
    "wf = cp.ones(shape=(2)) / cp.sqrt(2)\n",
    "\n",
    "rho = cp.ones(shape=(2,2), dtype=wf.dtype)\n",
    "\n",
    "pt_wf_keep_fisrt_1(wf, 0)"
   ]
  },
  {
   "cell_type": "markdown",
   "metadata": {},
   "source": [
    "## Second, one with cupy built-in functions"
   ]
  },
  {
   "cell_type": "code",
   "execution_count": 28,
   "metadata": {},
   "outputs": [],
   "source": [
    "def pt_wf_keep_fisrt_2(iwf, n):\n",
    "    n_range = 2 ** n\n",
    "    m_range = 2 ** (int(math_log2(iwf.shape[0])) - n)\n",
    "    iwf = iwf.reshape(n_range, m_range, order='C')\n",
    "    iwf_conj = iwf.conj()\n",
    "    ret = cp.zeros(shape=(n_range, n_range), dtype=iwf.dtype)\n",
    "    for i in range(n_range):\n",
    "        for j in range(n_range):\n",
    "            ret[i,j] = iwf[i,:].dot(iwf_conj[j,:])\n",
    "    return ret"
   ]
  },
  {
   "cell_type": "code",
   "execution_count": 29,
   "metadata": {},
   "outputs": [
    {
     "data": {
      "text/plain": [
       "array([[1.]])"
      ]
     },
     "execution_count": 29,
     "metadata": {},
     "output_type": "execute_result"
    }
   ],
   "source": [
    "pt_wf_keep_fisrt_2(wf, 0)"
   ]
  },
  {
   "cell_type": "markdown",
   "metadata": {},
   "source": [
    "## Compare first and second"
   ]
  },
  {
   "cell_type": "code",
   "execution_count": 30,
   "metadata": {},
   "outputs": [],
   "source": [
    "arr = cp.ones(shape=(2**18), dtype=cp.complex64)\n",
    "arr /= cp.linalg.norm(arr, ord=2)"
   ]
  },
  {
   "cell_type": "code",
   "execution_count": 32,
   "metadata": {},
   "outputs": [
    {
     "data": {
      "text/plain": [
       "array([[0.25+0.j, 0.25+0.j, 0.25+0.j, 0.25+0.j],\n",
       "       [0.25+0.j, 0.25+0.j, 0.25+0.j, 0.25+0.j],\n",
       "       [0.25+0.j, 0.25+0.j, 0.25+0.j, 0.25+0.j],\n",
       "       [0.25+0.j, 0.25+0.j, 0.25+0.j, 0.25+0.j]], dtype=complex64)"
      ]
     },
     "execution_count": 32,
     "metadata": {},
     "output_type": "execute_result"
    }
   ],
   "source": [
    "pt_wf_keep_fisrt_2(arr, 2)"
   ]
  },
  {
   "cell_type": "code",
   "execution_count": 33,
   "metadata": {},
   "outputs": [],
   "source": [
    "from mlec.q_toolkit.cupy_impl import partial_trace_wf_keep_first_cupy"
   ]
  },
  {
   "cell_type": "code",
   "execution_count": 34,
   "metadata": {
    "scrolled": true
   },
   "outputs": [
    {
     "data": {
      "text/plain": [
       "array([[0.25+0.j, 0.25+0.j, 0.25+0.j, 0.25+0.j],\n",
       "       [0.25+0.j, 0.25+0.j, 0.25+0.j, 0.25+0.j],\n",
       "       [0.25+0.j, 0.25+0.j, 0.25+0.j, 0.25+0.j],\n",
       "       [0.25+0.j, 0.25+0.j, 0.25+0.j, 0.25+0.j]], dtype=complex64)"
      ]
     },
     "execution_count": 34,
     "metadata": {},
     "output_type": "execute_result"
    }
   ],
   "source": [
    "partial_trace_wf_keep_first_cupy(arr, 2)"
   ]
  },
  {
   "cell_type": "code",
   "execution_count": 35,
   "metadata": {},
   "outputs": [],
   "source": [
    "def timeit(f, count=1000, **kwargs):\n",
    "    import time\n",
    "    t0 = time.time()\n",
    "    for _ in range(count):\n",
    "        f(**kwargs)\n",
    "    print(f\"Time costs for {count} loops: {time.time()-t0}\")"
   ]
  },
  {
   "cell_type": "code",
   "execution_count": 39,
   "metadata": {
    "scrolled": true
   },
   "outputs": [
    {
     "name": "stdout",
     "output_type": "stream",
     "text": [
      "Time costs for 1000 loops: 0.6749603748321533\n"
     ]
    }
   ],
   "source": [
    "timeit(pt_wf_keep_fisrt_2, iwf=arr, n=2)"
   ]
  },
  {
   "cell_type": "code",
   "execution_count": 40,
   "metadata": {
    "scrolled": false
   },
   "outputs": [
    {
     "name": "stdout",
     "output_type": "stream",
     "text": [
      "Time costs for 1000 loops: 3.800832509994507\n"
     ]
    }
   ],
   "source": [
    "timeit(partial_trace_wf_keep_first_cupy, iwf=arr, n=2)"
   ]
  },
  {
   "cell_type": "markdown",
   "metadata": {},
   "source": [
    "However, in my experiment with 833 code, the `partial_trace_wf_keep_first_cupy` performs way better than the `pt_wf_keep_fisrt_2`. I am not sure why, but one reason maybe that in 833 code, I need to permute the qubit indices to move the `retain_qubits` to the front, which might be causing the performance degragation."
   ]
  },
  {
   "cell_type": "code",
   "execution_count": null,
   "metadata": {},
   "outputs": [],
   "source": []
  }
 ],
 "metadata": {
  "kernelspec": {
   "display_name": "Python 3",
   "language": "python",
   "name": "python3"
  },
  "language_info": {
   "codemirror_mode": {
    "name": "ipython",
    "version": 3
   },
   "file_extension": ".py",
   "mimetype": "text/x-python",
   "name": "python",
   "nbconvert_exporter": "python",
   "pygments_lexer": "ipython3",
   "version": "3.7.3"
  }
 },
 "nbformat": 4,
 "nbformat_minor": 2
}
